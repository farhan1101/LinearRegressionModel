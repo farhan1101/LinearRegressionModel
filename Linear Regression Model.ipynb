{
 "cells": [
  {
   "cell_type": "markdown",
   "id": "9f214fe1",
   "metadata": {},
   "source": [
    "# Importing Libraries & Dataset"
   ]
  },
  {
   "cell_type": "code",
   "execution_count": 20,
   "id": "32059862",
   "metadata": {},
   "outputs": [],
   "source": [
    "import pandas as pd\n",
    "import numpy as np\n",
    "from matplotlib import pyplot as plt"
   ]
  },
  {
   "cell_type": "code",
   "execution_count": 5,
   "id": "03bb76ec",
   "metadata": {},
   "outputs": [],
   "source": [
    "df=pd.read_csv('C:\\\\Users\\\\farhan.anzum\\\\Downloads\\\\Python Course Materials\\\\Projects\\\\ML CLass Tasks\\\\Height-Weight Data.csv')"
   ]
  },
  {
   "cell_type": "code",
   "execution_count": 6,
   "id": "4bd28639",
   "metadata": {},
   "outputs": [
    {
     "data": {
      "text/html": [
       "<div>\n",
       "<style scoped>\n",
       "    .dataframe tbody tr th:only-of-type {\n",
       "        vertical-align: middle;\n",
       "    }\n",
       "\n",
       "    .dataframe tbody tr th {\n",
       "        vertical-align: top;\n",
       "    }\n",
       "\n",
       "    .dataframe thead th {\n",
       "        text-align: right;\n",
       "    }\n",
       "</style>\n",
       "<table border=\"1\" class=\"dataframe\">\n",
       "  <thead>\n",
       "    <tr style=\"text-align: right;\">\n",
       "      <th></th>\n",
       "      <th>Height</th>\n",
       "      <th>Weight</th>\n",
       "    </tr>\n",
       "  </thead>\n",
       "  <tbody>\n",
       "    <tr>\n",
       "      <th>0</th>\n",
       "      <td>73.847017</td>\n",
       "      <td>241.893563</td>\n",
       "    </tr>\n",
       "    <tr>\n",
       "      <th>1</th>\n",
       "      <td>68.781904</td>\n",
       "      <td>162.310473</td>\n",
       "    </tr>\n",
       "    <tr>\n",
       "      <th>2</th>\n",
       "      <td>74.110105</td>\n",
       "      <td>212.740856</td>\n",
       "    </tr>\n",
       "    <tr>\n",
       "      <th>3</th>\n",
       "      <td>71.730978</td>\n",
       "      <td>220.042470</td>\n",
       "    </tr>\n",
       "    <tr>\n",
       "      <th>4</th>\n",
       "      <td>69.881796</td>\n",
       "      <td>206.349801</td>\n",
       "    </tr>\n",
       "  </tbody>\n",
       "</table>\n",
       "</div>"
      ],
      "text/plain": [
       "      Height      Weight\n",
       "0  73.847017  241.893563\n",
       "1  68.781904  162.310473\n",
       "2  74.110105  212.740856\n",
       "3  71.730978  220.042470\n",
       "4  69.881796  206.349801"
      ]
     },
     "execution_count": 6,
     "metadata": {},
     "output_type": "execute_result"
    }
   ],
   "source": [
    "df.head()"
   ]
  },
  {
   "cell_type": "code",
   "execution_count": 8,
   "id": "826920b6",
   "metadata": {},
   "outputs": [
    {
     "data": {
      "text/plain": [
       "0    73.847017\n",
       "1    68.781904\n",
       "2    74.110105\n",
       "3    71.730978\n",
       "4    69.881796\n",
       "Name: Height, dtype: float64"
      ]
     },
     "execution_count": 8,
     "metadata": {},
     "output_type": "execute_result"
    }
   ],
   "source": [
    "df.Height.head()"
   ]
  },
  {
   "cell_type": "code",
   "execution_count": 9,
   "id": "f5ef4c9c",
   "metadata": {},
   "outputs": [
    {
     "data": {
      "text/plain": [
       "3496    185.649086\n",
       "3497    210.198845\n",
       "3498    202.429960\n",
       "3499    144.277671\n",
       "3500    187.222909\n",
       "Name: Weight, dtype: float64"
      ]
     },
     "execution_count": 9,
     "metadata": {},
     "output_type": "execute_result"
    }
   ],
   "source": [
    "df.Weight.tail()"
   ]
  },
  {
   "cell_type": "code",
   "execution_count": 10,
   "id": "7c0428cf",
   "metadata": {},
   "outputs": [
    {
     "data": {
      "text/plain": [
       "0    241.893563\n",
       "1    162.310473\n",
       "2    212.740856\n",
       "3    220.042470\n",
       "4    206.349801\n",
       "Name: Weight, dtype: float64"
      ]
     },
     "execution_count": 10,
     "metadata": {},
     "output_type": "execute_result"
    }
   ],
   "source": [
    "df['Weight'].head(5)"
   ]
  },
  {
   "cell_type": "code",
   "execution_count": 11,
   "id": "c3a31763",
   "metadata": {},
   "outputs": [
    {
     "data": {
      "text/html": [
       "<div>\n",
       "<style scoped>\n",
       "    .dataframe tbody tr th:only-of-type {\n",
       "        vertical-align: middle;\n",
       "    }\n",
       "\n",
       "    .dataframe tbody tr th {\n",
       "        vertical-align: top;\n",
       "    }\n",
       "\n",
       "    .dataframe thead th {\n",
       "        text-align: right;\n",
       "    }\n",
       "</style>\n",
       "<table border=\"1\" class=\"dataframe\">\n",
       "  <thead>\n",
       "    <tr style=\"text-align: right;\">\n",
       "      <th></th>\n",
       "      <th>Height</th>\n",
       "      <th>Weight</th>\n",
       "    </tr>\n",
       "  </thead>\n",
       "  <tbody>\n",
       "    <tr>\n",
       "      <th>10</th>\n",
       "      <td>71.195382</td>\n",
       "      <td>186.604926</td>\n",
       "    </tr>\n",
       "    <tr>\n",
       "      <th>11</th>\n",
       "      <td>71.640805</td>\n",
       "      <td>213.741170</td>\n",
       "    </tr>\n",
       "    <tr>\n",
       "      <th>12</th>\n",
       "      <td>64.766329</td>\n",
       "      <td>167.127461</td>\n",
       "    </tr>\n",
       "    <tr>\n",
       "      <th>13</th>\n",
       "      <td>69.283070</td>\n",
       "      <td>189.446181</td>\n",
       "    </tr>\n",
       "    <tr>\n",
       "      <th>14</th>\n",
       "      <td>69.243732</td>\n",
       "      <td>186.434168</td>\n",
       "    </tr>\n",
       "    <tr>\n",
       "      <th>15</th>\n",
       "      <td>67.645620</td>\n",
       "      <td>172.186930</td>\n",
       "    </tr>\n",
       "    <tr>\n",
       "      <th>16</th>\n",
       "      <td>72.418317</td>\n",
       "      <td>196.028506</td>\n",
       "    </tr>\n",
       "    <tr>\n",
       "      <th>17</th>\n",
       "      <td>63.974326</td>\n",
       "      <td>172.883470</td>\n",
       "    </tr>\n",
       "    <tr>\n",
       "      <th>18</th>\n",
       "      <td>69.640060</td>\n",
       "      <td>185.983958</td>\n",
       "    </tr>\n",
       "    <tr>\n",
       "      <th>19</th>\n",
       "      <td>67.936005</td>\n",
       "      <td>182.426648</td>\n",
       "    </tr>\n",
       "  </tbody>\n",
       "</table>\n",
       "</div>"
      ],
      "text/plain": [
       "       Height      Weight\n",
       "10  71.195382  186.604926\n",
       "11  71.640805  213.741170\n",
       "12  64.766329  167.127461\n",
       "13  69.283070  189.446181\n",
       "14  69.243732  186.434168\n",
       "15  67.645620  172.186930\n",
       "16  72.418317  196.028506\n",
       "17  63.974326  172.883470\n",
       "18  69.640060  185.983958\n",
       "19  67.936005  182.426648"
      ]
     },
     "execution_count": 11,
     "metadata": {},
     "output_type": "execute_result"
    }
   ],
   "source": [
    "df[10:20]"
   ]
  },
  {
   "cell_type": "code",
   "execution_count": 12,
   "id": "20d2237d",
   "metadata": {},
   "outputs": [
    {
     "data": {
      "text/plain": [
       "Height     69.024411\n",
       "Weight    186.891258\n",
       "dtype: float64"
      ]
     },
     "execution_count": 12,
     "metadata": {},
     "output_type": "execute_result"
    }
   ],
   "source": [
    "df.mean()"
   ]
  },
  {
   "cell_type": "code",
   "execution_count": 14,
   "id": "4ac8863b",
   "metadata": {},
   "outputs": [
    {
     "data": {
      "text/plain": [
       "69.02441087268797"
      ]
     },
     "execution_count": 14,
     "metadata": {},
     "output_type": "execute_result"
    }
   ],
   "source": [
    "df['Height'].mean()"
   ]
  },
  {
   "cell_type": "code",
   "execution_count": 15,
   "id": "016f5b93",
   "metadata": {},
   "outputs": [
    {
     "data": {
      "text/html": [
       "<div>\n",
       "<style scoped>\n",
       "    .dataframe tbody tr th:only-of-type {\n",
       "        vertical-align: middle;\n",
       "    }\n",
       "\n",
       "    .dataframe tbody tr th {\n",
       "        vertical-align: top;\n",
       "    }\n",
       "\n",
       "    .dataframe thead th {\n",
       "        text-align: right;\n",
       "    }\n",
       "</style>\n",
       "<table border=\"1\" class=\"dataframe\">\n",
       "  <thead>\n",
       "    <tr style=\"text-align: right;\">\n",
       "      <th></th>\n",
       "      <th>Height</th>\n",
       "      <th>Weight</th>\n",
       "    </tr>\n",
       "  </thead>\n",
       "  <tbody>\n",
       "    <tr>\n",
       "      <th>count</th>\n",
       "      <td>3501.000000</td>\n",
       "      <td>3501.000000</td>\n",
       "    </tr>\n",
       "    <tr>\n",
       "      <th>mean</th>\n",
       "      <td>69.024411</td>\n",
       "      <td>186.891258</td>\n",
       "    </tr>\n",
       "    <tr>\n",
       "      <th>std</th>\n",
       "      <td>2.858583</td>\n",
       "      <td>19.903132</td>\n",
       "    </tr>\n",
       "    <tr>\n",
       "      <th>min</th>\n",
       "      <td>59.380650</td>\n",
       "      <td>65.780000</td>\n",
       "    </tr>\n",
       "    <tr>\n",
       "      <th>25%</th>\n",
       "      <td>67.193523</td>\n",
       "      <td>173.896237</td>\n",
       "    </tr>\n",
       "    <tr>\n",
       "      <th>50%</th>\n",
       "      <td>69.044211</td>\n",
       "      <td>187.308370</td>\n",
       "    </tr>\n",
       "    <tr>\n",
       "      <th>75%</th>\n",
       "      <td>70.976491</td>\n",
       "      <td>200.356448</td>\n",
       "    </tr>\n",
       "    <tr>\n",
       "      <th>max</th>\n",
       "      <td>78.998742</td>\n",
       "      <td>269.989698</td>\n",
       "    </tr>\n",
       "  </tbody>\n",
       "</table>\n",
       "</div>"
      ],
      "text/plain": [
       "            Height       Weight\n",
       "count  3501.000000  3501.000000\n",
       "mean     69.024411   186.891258\n",
       "std       2.858583    19.903132\n",
       "min      59.380650    65.780000\n",
       "25%      67.193523   173.896237\n",
       "50%      69.044211   187.308370\n",
       "75%      70.976491   200.356448\n",
       "max      78.998742   269.989698"
      ]
     },
     "execution_count": 15,
     "metadata": {},
     "output_type": "execute_result"
    }
   ],
   "source": [
    "df.describe()"
   ]
  },
  {
   "cell_type": "code",
   "execution_count": 17,
   "id": "f3c25da1",
   "metadata": {},
   "outputs": [
    {
     "data": {
      "text/plain": [
       "(3501, 2)"
      ]
     },
     "execution_count": 17,
     "metadata": {},
     "output_type": "execute_result"
    }
   ],
   "source": [
    "df.shape"
   ]
  },
  {
   "cell_type": "code",
   "execution_count": 18,
   "id": "12ae6501",
   "metadata": {},
   "outputs": [],
   "source": [
    "row, col = df.shape"
   ]
  },
  {
   "cell_type": "code",
   "execution_count": 19,
   "id": "3e749db3",
   "metadata": {},
   "outputs": [
    {
     "name": "stdout",
     "output_type": "stream",
     "text": [
      "3501 2\n"
     ]
    }
   ],
   "source": [
    "print(row,col)"
   ]
  },
  {
   "cell_type": "code",
   "execution_count": 23,
   "id": "a532cd1e",
   "metadata": {},
   "outputs": [
    {
     "data": {
      "text/plain": [
       "Height    0\n",
       "Weight    0\n",
       "dtype: int64"
      ]
     },
     "execution_count": 23,
     "metadata": {},
     "output_type": "execute_result"
    }
   ],
   "source": [
    "df.isnull().sum()"
   ]
  },
  {
   "cell_type": "markdown",
   "id": "db5b8357",
   "metadata": {},
   "source": [
    "# Visualization"
   ]
  },
  {
   "cell_type": "code",
   "execution_count": 31,
   "id": "16956269",
   "metadata": {},
   "outputs": [
    {
     "data": {
      "text/plain": [
       "Text(0.5, 1.0, 'Height-Weight Plot Diagram')"
      ]
     },
     "execution_count": 31,
     "metadata": {},
     "output_type": "execute_result"
    },
    {
     "data": {
      "image/png": "[encoded data removed]",
      "text/plain": [
       "<Figure size 1008x720 with 1 Axes>"
      ]
     },
     "metadata": {
      "needs_background": "light"
     },
     "output_type": "display_data"
    }
   ],
   "source": [
    "plt.figure(figsize=(14,10))\n",
    "plt.scatter(df.Height, df.Weight, marker='H' , color='#42206D')\n",
    "plt.xlabel('Height', color='blue')\n",
    "plt.ylabel('Weight', color='green')\n",
    "plt.title('Height-Weight Plot Diagram', color='red')"
   ]
  },
  {
   "cell_type": "code",
   "execution_count": 32,
   "id": "25db691f",
   "metadata": {},
   "outputs": [],
   "source": [
    "x=df['Height']\n",
    "y=['Weight']"
   ]
  },
  {
   "cell_type": "code",
   "execution_count": 33,
   "id": "0694abde",
   "metadata": {},
   "outputs": [
    {
     "data": {
      "text/plain": [
       "0    73.847017\n",
       "1    68.781904\n",
       "2    74.110105\n",
       "3    71.730978\n",
       "4    69.881796\n",
       "Name: Height, dtype: float64"
      ]
     },
     "execution_count": 33,
     "metadata": {},
     "output_type": "execute_result"
    }
   ],
   "source": [
    "x.head()"
   ]
  },
  {
   "cell_type": "code",
   "execution_count": 36,
   "id": "63b4804d",
   "metadata": {},
   "outputs": [],
   "source": [
    "x=df[['Height']] # x = df.drop('Height', axis=1) ; x = df.drop(columns=['Height'])\n",
    "y=df['Weight']\n"
   ]
  },
  {
   "cell_type": "code",
   "execution_count": 37,
   "id": "0e7882d8",
   "metadata": {},
   "outputs": [
    {
     "data": {
      "text/html": [
       "<div>\n",
       "<style scoped>\n",
       "    .dataframe tbody tr th:only-of-type {\n",
       "        vertical-align: middle;\n",
       "    }\n",
       "\n",
       "    .dataframe tbody tr th {\n",
       "        vertical-align: top;\n",
       "    }\n",
       "\n",
       "    .dataframe thead th {\n",
       "        text-align: right;\n",
       "    }\n",
       "</style>\n",
       "<table border=\"1\" class=\"dataframe\">\n",
       "  <thead>\n",
       "    <tr style=\"text-align: right;\">\n",
       "      <th></th>\n",
       "      <th>Height</th>\n",
       "    </tr>\n",
       "  </thead>\n",
       "  <tbody>\n",
       "    <tr>\n",
       "      <th>0</th>\n",
       "      <td>73.847017</td>\n",
       "    </tr>\n",
       "    <tr>\n",
       "      <th>1</th>\n",
       "      <td>68.781904</td>\n",
       "    </tr>\n",
       "    <tr>\n",
       "      <th>2</th>\n",
       "      <td>74.110105</td>\n",
       "    </tr>\n",
       "    <tr>\n",
       "      <th>3</th>\n",
       "      <td>71.730978</td>\n",
       "    </tr>\n",
       "    <tr>\n",
       "      <th>4</th>\n",
       "      <td>69.881796</td>\n",
       "    </tr>\n",
       "  </tbody>\n",
       "</table>\n",
       "</div>"
      ],
      "text/plain": [
       "      Height\n",
       "0  73.847017\n",
       "1  68.781904\n",
       "2  74.110105\n",
       "3  71.730978\n",
       "4  69.881796"
      ]
     },
     "execution_count": 37,
     "metadata": {},
     "output_type": "execute_result"
    }
   ],
   "source": [
    "x.head()"
   ]
  },
  {
   "cell_type": "code",
   "execution_count": 38,
   "id": "c15831c4",
   "metadata": {},
   "outputs": [
    {
     "data": {
      "text/plain": [
       "3496    185.649086\n",
       "3497    210.198845\n",
       "3498    202.429960\n",
       "3499    144.277671\n",
       "3500    187.222909\n",
       "Name: Weight, dtype: float64"
      ]
     },
     "execution_count": 38,
     "metadata": {},
     "output_type": "execute_result"
    }
   ],
   "source": [
    "y.tail()"
   ]
  },
  {
   "cell_type": "markdown",
   "id": "97e99a94",
   "metadata": {},
   "source": [
    "# Split the dataste into train and test"
   ]
  },
  {
   "cell_type": "code",
   "execution_count": 39,
   "id": "4994d474",
   "metadata": {},
   "outputs": [],
   "source": [
    "from sklearn.model_selection import train_test_split as tts"
   ]
  },
  {
   "cell_type": "code",
   "execution_count": 40,
   "id": "4ecc2b76",
   "metadata": {},
   "outputs": [],
   "source": [
    "# train 75% ; test = 25%\n",
    "xtrain, xtest, ytrain, ytest = tts(x,y,test_size=.25)"
   ]
  },
  {
   "cell_type": "code",
   "execution_count": 41,
   "id": "88c16873",
   "metadata": {},
   "outputs": [
    {
     "data": {
      "text/html": [
       "<div>\n",
       "<style scoped>\n",
       "    .dataframe tbody tr th:only-of-type {\n",
       "        vertical-align: middle;\n",
       "    }\n",
       "\n",
       "    .dataframe tbody tr th {\n",
       "        vertical-align: top;\n",
       "    }\n",
       "\n",
       "    .dataframe thead th {\n",
       "        text-align: right;\n",
       "    }\n",
       "</style>\n",
       "<table border=\"1\" class=\"dataframe\">\n",
       "  <thead>\n",
       "    <tr style=\"text-align: right;\">\n",
       "      <th></th>\n",
       "      <th>Height</th>\n",
       "    </tr>\n",
       "  </thead>\n",
       "  <tbody>\n",
       "    <tr>\n",
       "      <th>2623</th>\n",
       "      <td>76.842679</td>\n",
       "    </tr>\n",
       "    <tr>\n",
       "      <th>3356</th>\n",
       "      <td>69.755107</td>\n",
       "    </tr>\n",
       "    <tr>\n",
       "      <th>3367</th>\n",
       "      <td>69.993354</td>\n",
       "    </tr>\n",
       "    <tr>\n",
       "      <th>979</th>\n",
       "      <td>68.537902</td>\n",
       "    </tr>\n",
       "    <tr>\n",
       "      <th>767</th>\n",
       "      <td>68.169995</td>\n",
       "    </tr>\n",
       "  </tbody>\n",
       "</table>\n",
       "</div>"
      ],
      "text/plain": [
       "         Height\n",
       "2623  76.842679\n",
       "3356  69.755107\n",
       "3367  69.993354\n",
       "979   68.537902\n",
       "767   68.169995"
      ]
     },
     "execution_count": 41,
     "metadata": {},
     "output_type": "execute_result"
    }
   ],
   "source": [
    "xtrain.head()"
   ]
  },
  {
   "cell_type": "code",
   "execution_count": 42,
   "id": "83f0e60f",
   "metadata": {},
   "outputs": [
    {
     "data": {
      "text/plain": [
       "2623    211.724166\n",
       "3356    180.167613\n",
       "3367    185.678102\n",
       "979     191.822914\n",
       "767     185.253110\n",
       "Name: Weight, dtype: float64"
      ]
     },
     "execution_count": 42,
     "metadata": {},
     "output_type": "execute_result"
    }
   ],
   "source": [
    "ytrain.head()"
   ]
  },
  {
   "cell_type": "markdown",
   "id": "8ab5b585",
   "metadata": {},
   "source": [
    "# Linear Regression"
   ]
  },
  {
   "cell_type": "code",
   "execution_count": 43,
   "id": "3a51f4a8",
   "metadata": {},
   "outputs": [],
   "source": [
    "from sklearn.linear_model import LinearRegression"
   ]
  },
  {
   "cell_type": "code",
   "execution_count": 44,
   "id": "593f011a",
   "metadata": {},
   "outputs": [],
   "source": [
    "reg = LinearRegression()"
   ]
  },
  {
   "cell_type": "code",
   "execution_count": 48,
   "id": "39766afa",
   "metadata": {},
   "outputs": [
    {
     "data": {
      "text/plain": [
       "LinearRegression()"
      ]
     },
     "execution_count": 48,
     "metadata": {},
     "output_type": "execute_result"
    }
   ],
   "source": [
    "reg.fit(xtrain,ytrain)  #training"
   ]
  },
  {
   "cell_type": "code",
   "execution_count": 50,
   "id": "95f783a0",
   "metadata": {},
   "outputs": [
    {
     "data": {
      "text/plain": [
       "array([5.99510717])"
      ]
     },
     "execution_count": 50,
     "metadata": {},
     "output_type": "execute_result"
    }
   ],
   "source": [
    "m = reg.coef_\n",
    "m"
   ]
  },
  {
   "cell_type": "code",
   "execution_count": 51,
   "id": "42e71c91",
   "metadata": {},
   "outputs": [
    {
     "data": {
      "text/plain": [
       "-227.04136868571666"
      ]
     },
     "execution_count": 51,
     "metadata": {},
     "output_type": "execute_result"
    }
   ],
   "source": [
    "c = reg.intercept_\n",
    "c"
   ]
  },
  {
   "cell_type": "code",
   "execution_count": 53,
   "id": "adabe862",
   "metadata": {},
   "outputs": [
    {
     "data": {
      "text/plain": [
       "array([222.42342127])"
      ]
     },
     "execution_count": 53,
     "metadata": {},
     "output_type": "execute_result"
    }
   ],
   "source": [
    "x1 = 74.97193581\n",
    "y= m*x1 + c\n",
    "\n",
    "y"
   ]
  },
  {
   "cell_type": "code",
   "execution_count": 54,
   "id": "032d721c",
   "metadata": {},
   "outputs": [
    {
     "data": {
      "text/plain": [
       "array([222.42342127])"
      ]
     },
     "execution_count": 54,
     "metadata": {},
     "output_type": "execute_result"
    }
   ],
   "source": [
    "reg.predict([[74.97193581]])"
   ]
  },
  {
   "cell_type": "code",
   "execution_count": 55,
   "id": "08a4eb84",
   "metadata": {},
   "outputs": [],
   "source": [
    "prediction = reg.predict(xtest)"
   ]
  },
  {
   "cell_type": "code",
   "execution_count": 56,
   "id": "f4a3160f",
   "metadata": {},
   "outputs": [
    {
     "data": {
      "text/plain": [
       "array([194.47328412, 170.93528391, 188.59703067, 216.52374848,\n",
       "       182.71530674, 177.92254217, 202.83310022, 198.93118454,\n",
       "       181.22171146, 198.4703    , 193.56502472, 176.29653596,\n",
       "       171.99740456, 186.36586592, 197.61937122, 196.4841213 ,\n",
       "       183.36604906, 167.01200095, 168.23092548, 161.60986773,\n",
       "       193.96457272, 202.50756308, 171.74469976, 193.64234937,\n",
       "       180.22654789, 181.56468806, 153.28971382, 201.3314417 ,\n",
       "       182.75075851, 177.81815273, 184.95333402, 173.46191937,\n",
       "       210.13004234, 226.75415594, 210.95983375, 176.9278521 ,\n",
       "       165.1620005 , 199.53163235, 180.58991727, 190.08763067,\n",
       "       159.09313211, 187.98240137, 168.14462699, 164.59098753,\n",
       "       181.70223662, 166.91875641, 187.32639468, 201.96861278,\n",
       "       196.91725922, 194.29528171, 180.23404591, 213.37601913,\n",
       "       181.68289503, 178.10041562, 176.90929952, 178.39864307,\n",
       "       176.57151378, 145.75195197, 197.46952903, 199.90572596,\n",
       "       170.78277456, 191.00421937, 182.27205981, 153.10206954,\n",
       "       205.01029785, 191.26076481, 186.68229218, 184.48718956,\n",
       "       178.93186643, 188.82855229, 166.93459279, 170.16580609,\n",
       "       177.72650289, 208.77449711, 166.80296194, 182.46002357,\n",
       "       217.89408861, 193.06154861, 176.37181694, 186.16142108,\n",
       "       204.36982814, 189.70612927, 191.1075939 , 171.37486172,\n",
       "       168.18451933, 154.33748655, 210.42329516, 184.18302906,\n",
       "       175.69934613, 218.04913527, 193.30163556, 156.87186283,\n",
       "       191.97556006, 147.37335634, 194.70013514, 197.51036261,\n",
       "       165.63212662, 169.48142786, 190.16521252, 188.87313431,\n",
       "       186.77974384, 175.79100454, 216.80397915, 201.79945052,\n",
       "       189.46619459, 157.51011501, 168.24261066, 187.89205552,\n",
       "       160.47905455, 197.39410777, 198.57013736, 210.43517069,\n",
       "       195.26457556, 189.71234584, 221.64968561, 153.6005708 ,\n",
       "       181.80148616, 205.34090127, 185.28540607, 183.26122575,\n",
       "       195.67240441, 193.18527917, 177.62876807, 195.52552722,\n",
       "       183.76343007, 182.78105538, 153.13934706, 198.3597413 ,\n",
       "       182.5663411 , 175.78889462, 189.81999014, 201.07375659,\n",
       "       219.86471631, 185.27204597, 206.27632156, 170.99293544,\n",
       "       189.71245429, 133.96611107, 172.24046251, 180.24226112,\n",
       "       205.26048764, 198.80539316, 192.97182883, 206.54695497,\n",
       "       196.3075844 , 183.30088902, 199.7377897 , 201.43898199,\n",
       "       190.75642301, 194.08548725, 211.01629639, 215.67941257,\n",
       "       163.3449319 , 179.40420222, 183.09155523, 156.90103005,\n",
       "       200.99314991, 158.06814678, 212.60446587, 191.92850123,\n",
       "       163.2379238 , 165.36211928, 168.74116851, 174.65212932,\n",
       "       184.65035881, 188.56858478, 170.03798435, 189.94000158,\n",
       "       145.03797859, 179.27624271, 172.40630396, 197.43141064,\n",
       "       162.42340899, 186.57632398, 182.04008166, 213.73276476,\n",
       "       187.03490472, 154.86652454, 170.09190615, 197.47973414,\n",
       "       198.41691178, 223.532173  , 204.4240841 , 181.98662388,\n",
       "       151.75133125, 173.28780821, 185.80094458, 171.34572376,\n",
       "       211.05502364, 188.03827577, 208.12772258, 195.52644705,\n",
       "       181.55795706, 181.79017028, 176.26923586, 169.63408709,\n",
       "       139.10672686, 186.57902478, 169.79738733, 200.06872087,\n",
       "       192.17394152, 203.26193791, 183.60689308, 182.22413528,\n",
       "       170.53154882, 203.49110958, 198.36898437, 190.09943654,\n",
       "       201.02836104, 177.08296566, 186.70097095, 214.89711469,\n",
       "       185.32532053, 198.38367838, 174.31075814, 196.73026026,\n",
       "       185.93978257, 199.23552987, 152.50868211, 193.75981481,\n",
       "       199.24418927, 183.38024986, 183.84278982, 159.19457256,\n",
       "       183.51980216, 179.13778984, 195.30718308, 157.95136905,\n",
       "       188.18150176, 175.01524169, 177.43104182, 176.84785417,\n",
       "       187.5669212 , 168.81661256, 188.06969594, 170.29118393,\n",
       "       186.21377473, 192.01185013, 213.03161581, 197.81310838,\n",
       "       176.7487093 , 192.73306595, 172.55191084, 210.23364918,\n",
       "       207.89677403, 180.92582882, 172.40324238, 169.85249316,\n",
       "       192.50953724, 177.69401115, 161.04844297, 134.26689495,\n",
       "       178.99075085, 193.16375224, 210.74657011, 169.99946747,\n",
       "       190.2678406 , 159.93663632, 161.2153169 , 205.44884072,\n",
       "       195.22244032, 191.10934447, 177.31796079, 201.82495407,\n",
       "       195.24931309, 222.65128642, 211.33289566, 194.76551052,\n",
       "       187.60650851, 188.4005535 , 143.24348438, 188.89287266,\n",
       "       182.93035945, 155.75029117, 210.54699281, 207.20670146,\n",
       "       202.67625089, 204.98257042, 196.83725068, 190.08934797,\n",
       "       201.3229865 , 201.03968064, 201.45034668, 150.68743384,\n",
       "       163.80815285, 176.87756718, 214.21654401, 198.13249832,\n",
       "       179.29638279, 188.32984798, 156.48696221, 193.47574834,\n",
       "       206.83692151, 178.01769711, 180.23617951, 183.04630056,\n",
       "       174.10242265, 191.43188592, 189.64993012, 195.94487909,\n",
       "       198.62261727, 188.73985684, 183.79440828, 172.12484801,\n",
       "       157.04690198, 173.3534177 , 177.45552602, 186.10917941,\n",
       "       186.4074008 , 197.29034025, 154.51158926, 198.30832282,\n",
       "       170.99091197, 184.3315579 , 165.26670925, 178.52727685,\n",
       "       189.17504551, 189.91540084, 194.41217977, 199.95068759,\n",
       "       181.14102295, 185.13418267, 228.7147567 , 191.30512219,\n",
       "       173.77467302, 148.0253743 , 170.93921616, 186.79438042,\n",
       "       215.71925401, 220.77897171, 215.391162  , 181.89260771,\n",
       "       181.0116977 , 192.89748824, 187.2618926 , 174.82473067,\n",
       "       188.86416251, 205.97093086, 185.53849233, 205.64683705,\n",
       "       202.17788824, 190.09273407, 187.82950851, 203.76612648,\n",
       "       165.06793056, 199.79789886, 171.45487805, 203.66696477,\n",
       "       197.92866401, 167.87572947, 194.09485179, 172.82991775,\n",
       "       173.44847091, 205.82861151, 196.87828491, 188.73921584,\n",
       "       166.01466859, 193.07109114, 227.68818297, 182.21895989,\n",
       "       204.96960534, 194.48027771, 202.25078485, 198.40732116,\n",
       "       199.57588134, 205.46180544, 169.13274955, 178.65943053,\n",
       "       165.87976885, 163.80590906, 153.82559708, 177.06127542,\n",
       "       178.66428927, 189.4580729 , 171.46105026, 185.17616142,\n",
       "       182.67843323, 226.6851757 , 203.90310197, 164.65096516,\n",
       "       176.74120187, 191.41927017, 164.81181724, 174.17180691,\n",
       "       164.64852473, 176.80997498, 192.21272363, 194.885515  ,\n",
       "       185.87089525, 195.04249508, 197.25125887, 214.77920047,\n",
       "       184.76478053, 214.04913916, 186.04608841, 174.82762931,\n",
       "       169.73945475, 173.46686072, 177.11794681, 195.90836476,\n",
       "       212.79501244, 185.45758273, 201.42749195, 182.88955081,\n",
       "       189.67447768, 190.21978484, 170.69048271, 172.79100699,\n",
       "       184.75613235, 184.16546639, 177.54937319, 164.33565795,\n",
       "       162.91303911, 193.24433811, 206.51382337, 166.54394885,\n",
       "       192.80462331, 205.96563466, 187.92918808, 177.61219975,\n",
       "       143.42823548, 205.89550492, 211.72822982, 186.0017679 ,\n",
       "       205.13697704, 198.48356016, 159.26760232, 197.52794733,\n",
       "       168.48706895, 208.89983969, 197.75364136, 190.606284  ,\n",
       "       176.3304691 , 207.2151858 , 195.47934427, 182.95723305,\n",
       "       199.96434762, 173.89810982, 161.46281195, 237.25941791,\n",
       "       191.90748676, 190.05778001, 191.97800403, 202.52559888,\n",
       "       174.03856553, 196.19773125, 174.90728737, 194.66081317,\n",
       "       196.19535923, 150.72499396, 174.084282  , 172.4432867 ,\n",
       "       183.42090388, 195.86932426, 177.64614969, 164.95527668,\n",
       "       193.99183073, 160.47261167, 167.52626694, 197.1245259 ,\n",
       "       187.86865704, 196.00317054, 163.10762757, 188.04217552,\n",
       "       200.52624587, 177.10770141, 182.55306331, 177.36621026,\n",
       "       169.5280915 , 161.03346264, 213.14643567, 180.87204533,\n",
       "       178.81014129, 226.30979356, 155.51226239, 181.97975061,\n",
       "       200.12451014, 175.49116699, 198.97068222, 186.82525   ,\n",
       "       167.36911701, 165.93263826, 193.30373379, 190.62045302,\n",
       "       194.41573828, 167.60571997, 204.4296481 , 199.8936692 ,\n",
       "       183.22851099, 196.00974663, 190.03691626, 203.44875486,\n",
       "       206.97035899, 193.34631422, 190.32458614, 166.49295818,\n",
       "       183.92821692, 193.01138875, 206.70763793, 200.891247  ,\n",
       "       171.13215214, 203.60617655, 202.66613409, 200.01431   ,\n",
       "       169.22068332, 192.39978224, 176.5601398 , 177.72889038,\n",
       "       177.38795475, 183.4915926 , 198.11095946, 197.7174905 ,\n",
       "       169.27141344, 182.24248511, 196.773286  , 196.65030483,\n",
       "       162.40786716, 190.01422496, 202.88979607, 197.56570979,\n",
       "       197.24534236, 179.99509305, 184.82323978, 161.17303473,\n",
       "       194.29639207, 198.95602437, 214.70926262, 197.88363285,\n",
       "       180.62640529, 184.7460903 , 209.6226917 , 201.34584567,\n",
       "       161.67055075, 183.41798372, 206.21068017, 196.58692965,\n",
       "       168.90852481, 209.03428884, 211.44769471, 192.44169733,\n",
       "       202.25962116, 190.52046806, 168.12594456, 189.97157049,\n",
       "       202.81450814, 178.67839557, 201.11686932, 202.98203613,\n",
       "       193.65094486, 181.47507692, 163.88366284, 184.1664057 ,\n",
       "       142.72773514, 199.36515152, 162.82664655, 216.43176039,\n",
       "       174.23161889, 171.48674882, 198.45409529, 191.97953434,\n",
       "       182.2912803 , 206.80950235, 186.93653796, 204.9851205 ,\n",
       "       204.06814296, 178.85935776, 195.12261106, 213.27639484,\n",
       "       210.93924458, 183.60198219, 217.92252904, 194.90525767,\n",
       "       205.14207816, 192.00514832, 212.02102551, 176.79921005,\n",
       "       195.02808033, 190.03365319, 188.73003044, 170.78267732,\n",
       "       186.23948295, 173.8627059 , 191.63879067, 179.51254297,\n",
       "       197.42156512, 155.26879174, 214.25975938, 165.90239282,\n",
       "       170.97246976, 175.81491135, 187.63710184, 205.8890808 ,\n",
       "       182.31054528, 200.31649703, 184.42176592, 226.33280392,\n",
       "       204.07949164, 215.48977936, 192.58190071, 172.1857499 ,\n",
       "       190.83691493, 167.49610621, 178.22442406, 216.51203943,\n",
       "       181.31938291, 204.96360418, 194.51567828, 146.49840282,\n",
       "       197.91979869, 225.1525422 , 195.80860587, 184.05922236,\n",
       "       192.51504051, 172.6860413 , 161.90201668, 213.56820021,\n",
       "       189.93057355, 211.23729013, 190.24703218, 181.81772115,\n",
       "       204.30131905, 168.90814538, 181.70559616, 195.17965672,\n",
       "       174.30888072, 184.03689149, 147.62125384, 182.78459021,\n",
       "       177.5815614 , 216.54622815, 195.13224238, 193.89686248,\n",
       "       200.95811193, 169.11506728, 194.56274239, 219.0137847 ,\n",
       "       191.00352993, 164.78540274, 206.07614092, 142.4122729 ,\n",
       "       188.20031002, 200.74926398, 205.64996601, 185.20481006,\n",
       "       204.33465011, 205.64175727, 203.99911769, 183.40989134,\n",
       "       189.26339318, 208.59012088, 165.53426075, 192.50757115,\n",
       "       158.44506672, 192.4051692 , 179.31060247, 218.38262845,\n",
       "       185.33996981, 181.59800473, 213.02382889, 165.50161086,\n",
       "       188.19629468, 199.82021181, 209.17288439, 176.24375917,\n",
       "       228.2538103 , 200.5929451 , 188.00450281, 197.18959146,\n",
       "       175.15107445, 175.68664219, 211.58513104, 163.44493515,\n",
       "       160.76227672, 191.45482517, 167.16989271, 173.20463521,\n",
       "       188.55279337, 182.96466261, 161.77609803, 160.10653778,\n",
       "       152.30442827, 210.63686174, 187.42677148, 220.71140451,\n",
       "       153.48255675, 174.74441698, 188.88739997, 203.80207548,\n",
       "       173.50254306, 167.06386013, 213.00569225, 178.03834192,\n",
       "       200.42080776, 154.35965952, 183.39195998, 191.08635773,\n",
       "       178.27623575, 180.97865315, 179.17127012, 199.23211542,\n",
       "       167.76164678, 198.50496641, 187.04856319, 210.52393922,\n",
       "       194.71142171, 185.70744482, 181.39923126, 209.23218919,\n",
       "       196.053287  , 175.68578489, 162.19641367, 166.20350014,\n",
       "       191.14421052, 182.83799259, 177.07184947, 174.66966081,\n",
       "       198.59969648, 209.82424996, 179.32191757, 206.28208022,\n",
       "       202.87450975, 187.26200477, 197.43865039, 181.18325315,\n",
       "       156.42085764, 184.82935113, 166.90071977, 187.86841508,\n",
       "       213.89374142, 188.12950223, 199.65926764, 205.2076542 ,\n",
       "       160.86479941, 173.56825825, 187.97184542, 183.11539669,\n",
       "       188.92710964, 198.92387632, 178.11245392, 197.96688234,\n",
       "       201.74319651, 181.48368955, 174.57785947, 159.11265284,\n",
       "       170.47662536, 192.59612572, 190.71954165, 173.30423678,\n",
       "       175.78232842, 182.80129432, 176.97953747, 182.39914217,\n",
       "       183.92850169, 191.42655549, 190.80829669, 194.56306492,\n",
       "       180.83413569, 177.27786318, 183.85715212, 186.43325692,\n",
       "       177.69024394, 171.4376866 , 203.72939584, 196.31129471,\n",
       "       185.21914053, 201.2713034 , 199.24448524, 184.75963583,\n",
       "       215.33090428, 162.70597116, 206.9162682 , 160.06880037,\n",
       "       187.90322351, 194.34715294, 215.6309257 , 203.46240254,\n",
       "       181.17371799, 184.66637954, 179.3296702 , 192.89762193,\n",
       "       214.27037264, 207.42775587, 219.71984544, 221.75779526,\n",
       "       184.82246773, 204.4113969 , 171.3601282 , 225.81236753,\n",
       "       192.92894277, 187.4739676 , 188.13404011, 171.97213152,\n",
       "       163.3561093 , 177.34520004, 181.4635804 , 213.62459684,\n",
       "       202.93138425, 221.19748798, 202.82926179, 159.68027612,\n",
       "       202.08658   , 186.73934617, 190.96872174, 184.28846129,\n",
       "       202.21847542, 159.80096057, 190.38929014, 159.806726  ,\n",
       "       202.90295779, 183.20869135, 214.10666383, 173.09369414,\n",
       "       175.18366307, 186.8055059 , 185.37994549, 173.03391938,\n",
       "       183.97089363, 204.6409158 , 186.8238026 , 155.85366223,\n",
       "       202.75307369, 179.7131582 , 209.75062693, 228.47391448,\n",
       "       179.81245618, 204.64057605, 158.81670144, 172.72582309,\n",
       "       189.66763007, 163.93287866, 200.44403041, 184.14237222,\n",
       "       179.16993345, 160.0931302 , 180.50579207, 177.15620435,\n",
       "       193.18671853, 178.34295967, 185.67986673, 189.5541123 ,\n",
       "       197.91646007, 157.54293313, 201.86353336, 202.38622907,\n",
       "       183.22175427, 182.10038008, 169.09550405, 191.38046906,\n",
       "       210.63800789, 169.20115888, 208.30555365, 204.49741499,\n",
       "       185.02026142, 198.18633768, 216.99750822, 195.81873041,\n",
       "       186.60567926, 209.9352194 , 185.23308005, 169.34770202,\n",
       "       220.7157557 , 196.87883514, 186.88401117, 207.28225264,\n",
       "       184.81155417, 182.16453079, 171.80271687, 178.24383831,\n",
       "       189.7717625 , 190.01841314, 195.55930342, 180.11663569,\n",
       "       193.51552144, 187.44645252, 177.6577489 , 177.58552345])"
      ]
     },
     "execution_count": 56,
     "metadata": {},
     "output_type": "execute_result"
    }
   ],
   "source": [
    "prediction\n"
   ]
  },
  {
   "cell_type": "code",
   "execution_count": 57,
   "id": "0221fae0",
   "metadata": {},
   "outputs": [],
   "source": [
    "df['predicted result'] = reg.predict(x)"
   ]
  },
  {
   "cell_type": "code",
   "execution_count": 61,
   "id": "8978b1e5",
   "metadata": {},
   "outputs": [
    {
     "data": {
      "text/html": [
       "<div>\n",
       "<style scoped>\n",
       "    .dataframe tbody tr th:only-of-type {\n",
       "        vertical-align: middle;\n",
       "    }\n",
       "\n",
       "    .dataframe tbody tr th {\n",
       "        vertical-align: top;\n",
       "    }\n",
       "\n",
       "    .dataframe thead th {\n",
       "        text-align: right;\n",
       "    }\n",
       "</style>\n",
       "<table border=\"1\" class=\"dataframe\">\n",
       "  <thead>\n",
       "    <tr style=\"text-align: right;\">\n",
       "      <th></th>\n",
       "      <th>Height</th>\n",
       "      <th>Weight</th>\n",
       "      <th>predicted result</th>\n",
       "    </tr>\n",
       "  </thead>\n",
       "  <tbody>\n",
       "    <tr>\n",
       "      <th>3485</th>\n",
       "      <td>71.795809</td>\n",
       "      <td>209.128403</td>\n",
       "      <td>203.382198</td>\n",
       "    </tr>\n",
       "    <tr>\n",
       "      <th>3486</th>\n",
       "      <td>68.832327</td>\n",
       "      <td>172.269277</td>\n",
       "      <td>185.615809</td>\n",
       "    </tr>\n",
       "    <tr>\n",
       "      <th>3487</th>\n",
       "      <td>74.971936</td>\n",
       "      <td>237.575314</td>\n",
       "      <td>222.423421</td>\n",
       "    </tr>\n",
       "  </tbody>\n",
       "</table>\n",
       "</div>"
      ],
      "text/plain": [
       "         Height      Weight  predicted result\n",
       "3485  71.795809  209.128403        203.382198\n",
       "3486  68.832327  172.269277        185.615809\n",
       "3487  74.971936  237.575314        222.423421"
      ]
     },
     "execution_count": 61,
     "metadata": {},
     "output_type": "execute_result"
    }
   ],
   "source": [
    "df[3485:3488]"
   ]
  },
  {
   "cell_type": "code",
   "execution_count": 62,
   "id": "bbd47d7b",
   "metadata": {},
   "outputs": [
    {
     "data": {
      "text/plain": [
       "array([185.61580847])"
      ]
     },
     "execution_count": 62,
     "metadata": {},
     "output_type": "execute_result"
    }
   ],
   "source": [
    "x2 = 68.832327\n",
    "y = m* x2 + c\n",
    "\n",
    "y"
   ]
  },
  {
   "cell_type": "code",
   "execution_count": 63,
   "id": "28bb7edc",
   "metadata": {},
   "outputs": [],
   "source": [
    "from sklearn.metrics import mean_squared_error, mean_absolute_error"
   ]
  },
  {
   "cell_type": "code",
   "execution_count": 64,
   "id": "bf305b75",
   "metadata": {},
   "outputs": [],
   "source": [
    "mse = mean_squared_error(ytest, prediction)"
   ]
  },
  {
   "cell_type": "code",
   "execution_count": 65,
   "id": "475eee1c",
   "metadata": {},
   "outputs": [
    {
     "data": {
      "text/plain": [
       "97.56261884039418"
      ]
     },
     "execution_count": 65,
     "metadata": {},
     "output_type": "execute_result"
    }
   ],
   "source": [
    "mse"
   ]
  },
  {
   "cell_type": "code",
   "execution_count": 66,
   "id": "1154746b",
   "metadata": {},
   "outputs": [],
   "source": [
    "mae = mean_absolute_error(ytest, prediction)"
   ]
  },
  {
   "cell_type": "code",
   "execution_count": 67,
   "id": "87575a4b",
   "metadata": {},
   "outputs": [
    {
     "data": {
      "text/plain": [
       "7.859071442556861"
      ]
     },
     "execution_count": 67,
     "metadata": {},
     "output_type": "execute_result"
    }
   ],
   "source": [
    "mae"
   ]
  },
  {
   "cell_type": "markdown",
   "id": "f7555c6e",
   "metadata": {},
   "source": [
    "# Best Fit Line"
   ]
  },
  {
   "cell_type": "code",
   "execution_count": 68,
   "id": "cf2b4e68",
   "metadata": {},
   "outputs": [
    {
     "data": {
      "text/plain": [
       "[<matplotlib.lines.Line2D at 0x23db67d8610>]"
      ]
     },
     "execution_count": 68,
     "metadata": {},
     "output_type": "execute_result"
    },
    {
     "data": {
      "image/png": "[encoded data removed]",
      "text/plain": [
       "<Figure size 1008x720 with 1 Axes>"
      ]
     },
     "metadata": {
      "needs_background": "light"
     },
     "output_type": "display_data"
    }
   ],
   "source": [
    "plt.figure(figsize=(14,10))\n",
    "plt.scatter(df.Height, df.Weight, marker='H' , color='#42206D')\n",
    "plt.xlabel('Height', color='blue')\n",
    "plt.ylabel('Weight', color='green')\n",
    "plt.title('Height-Weight Plot Diagram', color='brown')\n",
    "plt.plot(xtrain , reg.predict(xtrain), color='red')"
   ]
  },
  {
   "cell_type": "code",
   "execution_count": 70,
   "id": "13579c2b",
   "metadata": {},
   "outputs": [
    {
     "data": {
      "text/plain": [
       "<matplotlib.collections.PathCollection at 0x23db6d18cd0>"
      ]
     },
     "execution_count": 70,
     "metadata": {},
     "output_type": "execute_result"
    },
    {
     "data": {
      "image/png": "[encoded data removed]",
      "text/plain": [
       "<Figure size 1008x720 with 1 Axes>"
      ]
     },
     "metadata": {
      "needs_background": "light"
     },
     "output_type": "display_data"
    }
   ],
   "source": [
    "plt.figure(figsize=(14,10))\n",
    "plt.xlabel('Height', color='black')\n",
    "plt.ylabel('Weight')\n",
    "plt.title('Height-Weight Plot', color='red')\n",
    "plt.plot(xtrain , reg.predict(xtrain), color='red')\n",
    "plt.scatter(xtrain, ytrain)\n",
    "plt.scatter(xtrain, reg.predict(xtrain), color='green')"
   ]
  },
  {
   "cell_type": "code",
   "execution_count": 71,
   "id": "3a904080",
   "metadata": {},
   "outputs": [
    {
     "data": {
      "text/plain": [
       "array([203.38220066])"
      ]
     },
     "execution_count": 71,
     "metadata": {},
     "output_type": "execute_result"
    }
   ],
   "source": [
    "reg.predict([[71.795809]])"
   ]
  },
  {
   "cell_type": "code",
   "execution_count": 72,
   "id": "a37cb40e",
   "metadata": {},
   "outputs": [
    {
     "data": {
      "text/plain": [
       "0.7327308036436565"
      ]
     },
     "execution_count": 72,
     "metadata": {},
     "output_type": "execute_result"
    }
   ],
   "source": [
    "reg.score(xtest,ytest)"
   ]
  },
  {
   "cell_type": "code",
   "execution_count": 73,
   "id": "34ac5de4",
   "metadata": {},
   "outputs": [
    {
     "data": {
      "text/plain": [
       "0.7327308036436565"
      ]
     },
     "execution_count": 73,
     "metadata": {},
     "output_type": "execute_result"
    }
   ],
   "source": [
    "from sklearn.metrics import r2_score\n",
    "r2_score(ytest, prediction)"
   ]
  },
  {
   "cell_type": "code",
   "execution_count": null,
   "id": "bd8b0996",
   "metadata": {},
   "outputs": [],
   "source": []
  }
 ],
 "metadata": {
  "kernelspec": {
   "display_name": "Python 3",
   "language": "python",
   "name": "python3"
  },
  "language_info": {
   "codemirror_mode": {
    "name": "ipython",
    "version": 3
   },
   "file_extension": ".py",
   "mimetype": "text/x-python",
   "name": "python",
   "nbconvert_exporter": "python",
   "pygments_lexer": "ipython3",
   "version": "3.8.8"
  }
 },
 "nbformat": 4,
 "nbformat_minor": 5
}
